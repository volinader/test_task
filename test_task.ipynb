{
 "cells": [
  {
   "cell_type": "code",
   "execution_count": 1,
   "metadata": {},
   "outputs": [],
   "source": [
    "import pandas as pd\n",
    "import numpy as np"
   ]
  },
  {
   "cell_type": "code",
   "execution_count": 2,
   "metadata": {},
   "outputs": [
    {
     "data": {
      "text/html": [
       "<div>\n",
       "<style scoped>\n",
       "    .dataframe tbody tr th:only-of-type {\n",
       "        vertical-align: middle;\n",
       "    }\n",
       "\n",
       "    .dataframe tbody tr th {\n",
       "        vertical-align: top;\n",
       "    }\n",
       "\n",
       "    .dataframe thead th {\n",
       "        text-align: right;\n",
       "    }\n",
       "</style>\n",
       "<table border=\"1\" class=\"dataframe\">\n",
       "  <thead>\n",
       "    <tr style=\"text-align: right;\">\n",
       "      <th></th>\n",
       "      <th>dlg_id</th>\n",
       "      <th>line_n</th>\n",
       "      <th>role</th>\n",
       "      <th>text</th>\n",
       "    </tr>\n",
       "  </thead>\n",
       "  <tbody>\n",
       "    <tr>\n",
       "      <th>0</th>\n",
       "      <td>0</td>\n",
       "      <td>0</td>\n",
       "      <td>client</td>\n",
       "      <td>Алло</td>\n",
       "    </tr>\n",
       "    <tr>\n",
       "      <th>1</th>\n",
       "      <td>0</td>\n",
       "      <td>1</td>\n",
       "      <td>manager</td>\n",
       "      <td>Алло здравствуйте</td>\n",
       "    </tr>\n",
       "    <tr>\n",
       "      <th>2</th>\n",
       "      <td>0</td>\n",
       "      <td>2</td>\n",
       "      <td>client</td>\n",
       "      <td>Добрый день</td>\n",
       "    </tr>\n",
       "    <tr>\n",
       "      <th>3</th>\n",
       "      <td>0</td>\n",
       "      <td>3</td>\n",
       "      <td>manager</td>\n",
       "      <td>Меня зовут ангелина компания диджитал бизнес з...</td>\n",
       "    </tr>\n",
       "    <tr>\n",
       "      <th>4</th>\n",
       "      <td>0</td>\n",
       "      <td>4</td>\n",
       "      <td>client</td>\n",
       "      <td>Ага</td>\n",
       "    </tr>\n",
       "  </tbody>\n",
       "</table>\n",
       "</div>"
      ],
      "text/plain": [
       "   dlg_id  line_n     role                                               text\n",
       "0       0       0   client                                               Алло\n",
       "1       0       1  manager                                  Алло здравствуйте\n",
       "2       0       2   client                                        Добрый день\n",
       "3       0       3  manager  Меня зовут ангелина компания диджитал бизнес з...\n",
       "4       0       4   client                                                Ага"
      ]
     },
     "execution_count": 2,
     "metadata": {},
     "output_type": "execute_result"
    }
   ],
   "source": [
    "df = pd.read_csv('../testtask/test_data.csv')\n",
    "df.head()"
   ]
  },
  {
   "cell_type": "markdown",
   "metadata": {},
   "source": [
    "### Ознакомление с данными\n",
    "Видим, что у нас было 5 диалогов. (dig_id - номер диалога)\n",
    "<br>Следующий столбик - реплика каждого участника (line_n)\n",
    "<br>Оставим только ответы менеджера и сгруппируем наш датафрейм по номеру диалога"
   ]
  },
  {
   "cell_type": "code",
   "execution_count": 3,
   "metadata": {
    "scrolled": true
   },
   "outputs": [],
   "source": [
    "df_new = df[df.role == 'manager'].groupby(['dlg_id', 'line_n'], as_index=False)['text'].sum()"
   ]
  },
  {
   "cell_type": "code",
   "execution_count": 4,
   "metadata": {},
   "outputs": [
    {
     "data": {
      "text/html": [
       "<div>\n",
       "<style scoped>\n",
       "    .dataframe tbody tr th:only-of-type {\n",
       "        vertical-align: middle;\n",
       "    }\n",
       "\n",
       "    .dataframe tbody tr th {\n",
       "        vertical-align: top;\n",
       "    }\n",
       "\n",
       "    .dataframe thead th {\n",
       "        text-align: right;\n",
       "    }\n",
       "</style>\n",
       "<table border=\"1\" class=\"dataframe\">\n",
       "  <thead>\n",
       "    <tr style=\"text-align: right;\">\n",
       "      <th></th>\n",
       "      <th>dlg_id</th>\n",
       "      <th>line_n</th>\n",
       "      <th>text</th>\n",
       "    </tr>\n",
       "  </thead>\n",
       "  <tbody>\n",
       "    <tr>\n",
       "      <th>0</th>\n",
       "      <td>0</td>\n",
       "      <td>1</td>\n",
       "      <td>Алло здравствуйте</td>\n",
       "    </tr>\n",
       "    <tr>\n",
       "      <th>1</th>\n",
       "      <td>0</td>\n",
       "      <td>3</td>\n",
       "      <td>Меня зовут ангелина компания диджитал бизнес з...</td>\n",
       "    </tr>\n",
       "    <tr>\n",
       "      <th>2</th>\n",
       "      <td>0</td>\n",
       "      <td>5</td>\n",
       "      <td>Угу ну возможно вы рассмотрите и другие вариан...</td>\n",
       "    </tr>\n",
       "    <tr>\n",
       "      <th>3</th>\n",
       "      <td>0</td>\n",
       "      <td>8</td>\n",
       "      <td>Угу а на что вы обращаете внимание при выборе</td>\n",
       "    </tr>\n",
       "    <tr>\n",
       "      <th>4</th>\n",
       "      <td>0</td>\n",
       "      <td>11</td>\n",
       "      <td>Что для вас приоритет</td>\n",
       "    </tr>\n",
       "    <tr>\n",
       "      <th>...</th>\n",
       "      <td>...</td>\n",
       "      <td>...</td>\n",
       "      <td>...</td>\n",
       "    </tr>\n",
       "    <tr>\n",
       "      <th>196</th>\n",
       "      <td>5</td>\n",
       "      <td>135</td>\n",
       "      <td>Так дмитрий</td>\n",
       "    </tr>\n",
       "    <tr>\n",
       "      <th>197</th>\n",
       "      <td>5</td>\n",
       "      <td>136</td>\n",
       "      <td>Все записала тогда завтра ждите звонка</td>\n",
       "    </tr>\n",
       "    <tr>\n",
       "      <th>198</th>\n",
       "      <td>5</td>\n",
       "      <td>138</td>\n",
       "      <td>По поводу виджетов и с ними уже обсудите конкр...</td>\n",
       "    </tr>\n",
       "    <tr>\n",
       "      <th>199</th>\n",
       "      <td>5</td>\n",
       "      <td>139</td>\n",
       "      <td>Все я вам высылаю счет и с вами на связи если ...</td>\n",
       "    </tr>\n",
       "    <tr>\n",
       "      <th>200</th>\n",
       "      <td>5</td>\n",
       "      <td>142</td>\n",
       "      <td>Ну до свидания хорошего вечера</td>\n",
       "    </tr>\n",
       "  </tbody>\n",
       "</table>\n",
       "<p>201 rows × 3 columns</p>\n",
       "</div>"
      ],
      "text/plain": [
       "     dlg_id  line_n                                               text\n",
       "0         0       1                                  Алло здравствуйте\n",
       "1         0       3  Меня зовут ангелина компания диджитал бизнес з...\n",
       "2         0       5  Угу ну возможно вы рассмотрите и другие вариан...\n",
       "3         0       8      Угу а на что вы обращаете внимание при выборе\n",
       "4         0      11                              Что для вас приоритет\n",
       "..      ...     ...                                                ...\n",
       "196       5     135                                        Так дмитрий\n",
       "197       5     136             Все записала тогда завтра ждите звонка\n",
       "198       5     138  По поводу виджетов и с ними уже обсудите конкр...\n",
       "199       5     139  Все я вам высылаю счет и с вами на связи если ...\n",
       "200       5     142                     Ну до свидания хорошего вечера\n",
       "\n",
       "[201 rows x 3 columns]"
      ]
     },
     "execution_count": 4,
     "metadata": {},
     "output_type": "execute_result"
    }
   ],
   "source": [
    "df_new"
   ]
  },
  {
   "cell_type": "code",
   "execution_count": 5,
   "metadata": {},
   "outputs": [],
   "source": [
    "#используем для того чтоб посмотреть на токены\n",
    "from yargy.tokenizer import MorphTokenizer"
   ]
  },
  {
   "cell_type": "code",
   "execution_count": 6,
   "metadata": {},
   "outputs": [],
   "source": [
    "TOKENIZER = MorphTokenizer()"
   ]
  },
  {
   "cell_type": "code",
   "execution_count": 7,
   "metadata": {
    "scrolled": false
   },
   "outputs": [
    {
     "data": {
      "text/plain": [
       "[MorphToken(\n",
       "     value='компания',\n",
       "     span=[0, 8),\n",
       "     type='RU',\n",
       "     forms=[Form('компания', Grams(NOUN,femn,inan,nomn,sing))]\n",
       " ),\n",
       " MorphToken(\n",
       "     value='китобизнес',\n",
       "     span=[9, 19),\n",
       "     type='RU',\n",
       "     forms=[Form('китобизнес', Grams(NOUN,inan,masc,nomn,sing)),\n",
       "      Form('китобизнес', Grams(NOUN,accs,inan,masc,sing))]\n",
       " )]"
      ]
     },
     "execution_count": 7,
     "metadata": {},
     "output_type": "execute_result"
    }
   ],
   "source": [
    "list(TOKENIZER('компания китобизнес'))"
   ]
  },
  {
   "cell_type": "markdown",
   "metadata": {},
   "source": [
    "### Приветствие\n",
    "Найдем из всех реплик реплики с приветствием"
   ]
  },
  {
   "cell_type": "code",
   "execution_count": 15,
   "metadata": {
    "scrolled": false
   },
   "outputs": [],
   "source": [
    "#создаем свои правила для нахождения нужных нам слов и с помощью метода Parser найдем их в тексте\n",
    "from yargy import rule, Parser, or_, and_, not_\n",
    "from yargy.predicates import eq, gram\n",
    "from yargy.pipelines import morph_pipeline\n",
    "from yargy.interpretation import fact\n",
    "\n",
    "HELLO = morph_pipeline([\n",
    "                        'Добрый день',\n",
    "                        'Здравствуйте'\n",
    "                        ])\n",
    "\n",
    "name_finder = rule(HELLO)\n",
    "parser_name = Parser(name_finder)\n",
    "\n",
    "found = []\n",
    "index_found = []\n",
    "for num, row in zip(df_new.dlg_id, df_new.text):\n",
    "    matches = (list(parser_name.findall(row)))\n",
    "    if matches:\n",
    "        found.append(row)\n",
    "        index_found.append(num)"
   ]
  },
  {
   "cell_type": "code",
   "execution_count": 16,
   "metadata": {
    "scrolled": false
   },
   "outputs": [
    {
     "data": {
      "text/html": [
       "<div>\n",
       "<style scoped>\n",
       "    .dataframe tbody tr th:only-of-type {\n",
       "        vertical-align: middle;\n",
       "    }\n",
       "\n",
       "    .dataframe tbody tr th {\n",
       "        vertical-align: top;\n",
       "    }\n",
       "\n",
       "    .dataframe thead th {\n",
       "        text-align: right;\n",
       "    }\n",
       "</style>\n",
       "<table border=\"1\" class=\"dataframe\">\n",
       "  <thead>\n",
       "    <tr style=\"text-align: right;\">\n",
       "      <th></th>\n",
       "      <th>dlg_id</th>\n",
       "      <th>greetings</th>\n",
       "    </tr>\n",
       "  </thead>\n",
       "  <tbody>\n",
       "    <tr>\n",
       "      <th>0</th>\n",
       "      <td>0</td>\n",
       "      <td>Алло здравствуйте</td>\n",
       "    </tr>\n",
       "    <tr>\n",
       "      <th>1</th>\n",
       "      <td>1</td>\n",
       "      <td>Алло здравствуйте</td>\n",
       "    </tr>\n",
       "    <tr>\n",
       "      <th>2</th>\n",
       "      <td>2</td>\n",
       "      <td>Алло здравствуйте</td>\n",
       "    </tr>\n",
       "    <tr>\n",
       "      <th>3</th>\n",
       "      <td>3</td>\n",
       "      <td>Алло дмитрий добрый день</td>\n",
       "    </tr>\n",
       "  </tbody>\n",
       "</table>\n",
       "</div>"
      ],
      "text/plain": [
       "   dlg_id                 greetings\n",
       "0       0         Алло здравствуйте\n",
       "1       1         Алло здравствуйте\n",
       "2       2         Алло здравствуйте\n",
       "3       3  Алло дмитрий добрый день"
      ]
     },
     "execution_count": 16,
     "metadata": {},
     "output_type": "execute_result"
    }
   ],
   "source": [
    "greetings = pd.DataFrame(data={'dlg_id':index_found, 'greetings':found})\n",
    "greetings.head()"
   ]
  },
  {
   "cell_type": "markdown",
   "metadata": {},
   "source": [
    "## Прощание\n",
    "Найдем из всех реплик реплики с прощанием"
   ]
  },
  {
   "cell_type": "code",
   "execution_count": 17,
   "metadata": {},
   "outputs": [],
   "source": [
    "BYE = morph_pipeline([\n",
    "                         'До свидания'\n",
    "\n",
    "                         ])\n",
    "name_finder = rule(BYE)\n",
    "parser_name = Parser(name_finder)\n",
    "\n",
    "found1 = []\n",
    "index_found1 = []\n",
    "for num, row in zip(df_new.dlg_id, df_new.text):\n",
    "    matches = (list(parser_name.findall(row)))\n",
    "    if matches:\n",
    "        found1.append(row)\n",
    "        index_found1.append(num)"
   ]
  },
  {
   "cell_type": "code",
   "execution_count": 18,
   "metadata": {
    "scrolled": true
   },
   "outputs": [
    {
     "data": {
      "text/html": [
       "<div>\n",
       "<style scoped>\n",
       "    .dataframe tbody tr th:only-of-type {\n",
       "        vertical-align: middle;\n",
       "    }\n",
       "\n",
       "    .dataframe tbody tr th {\n",
       "        vertical-align: top;\n",
       "    }\n",
       "\n",
       "    .dataframe thead th {\n",
       "        text-align: right;\n",
       "    }\n",
       "</style>\n",
       "<table border=\"1\" class=\"dataframe\">\n",
       "  <thead>\n",
       "    <tr style=\"text-align: right;\">\n",
       "      <th></th>\n",
       "      <th>dlg_id</th>\n",
       "      <th>parting</th>\n",
       "    </tr>\n",
       "  </thead>\n",
       "  <tbody>\n",
       "    <tr>\n",
       "      <th>0</th>\n",
       "      <td>0</td>\n",
       "      <td>Всего хорошего до свидания</td>\n",
       "    </tr>\n",
       "    <tr>\n",
       "      <th>1</th>\n",
       "      <td>1</td>\n",
       "      <td>До свидания</td>\n",
       "    </tr>\n",
       "    <tr>\n",
       "      <th>2</th>\n",
       "      <td>4</td>\n",
       "      <td>Во вторник все ну с вами да тогда до вторника ...</td>\n",
       "    </tr>\n",
       "    <tr>\n",
       "      <th>3</th>\n",
       "      <td>5</td>\n",
       "      <td>Ну до свидания хорошего вечера</td>\n",
       "    </tr>\n",
       "  </tbody>\n",
       "</table>\n",
       "</div>"
      ],
      "text/plain": [
       "   dlg_id                                            parting\n",
       "0       0                         Всего хорошего до свидания\n",
       "1       1                                        До свидания\n",
       "2       4  Во вторник все ну с вами да тогда до вторника ...\n",
       "3       5                     Ну до свидания хорошего вечера"
      ]
     },
     "execution_count": 18,
     "metadata": {},
     "output_type": "execute_result"
    }
   ],
   "source": [
    "parting = pd.DataFrame(data={'dlg_id':index_found1, 'parting':found1})\n",
    "parting.head()"
   ]
  },
  {
   "cell_type": "code",
   "execution_count": 19,
   "metadata": {},
   "outputs": [],
   "source": [
    "df_full = greetings.merge(parting, how='outer', on='dlg_id')"
   ]
  },
  {
   "cell_type": "markdown",
   "metadata": {},
   "source": [
    "### Приветствие и прощание\n",
    "Найдем менеджера, который совершил оба действия"
   ]
  },
  {
   "cell_type": "code",
   "execution_count": 20,
   "metadata": {
    "scrolled": true
   },
   "outputs": [
    {
     "data": {
      "text/html": [
       "<div>\n",
       "<style scoped>\n",
       "    .dataframe tbody tr th:only-of-type {\n",
       "        vertical-align: middle;\n",
       "    }\n",
       "\n",
       "    .dataframe tbody tr th {\n",
       "        vertical-align: top;\n",
       "    }\n",
       "\n",
       "    .dataframe thead th {\n",
       "        text-align: right;\n",
       "    }\n",
       "</style>\n",
       "<table border=\"1\" class=\"dataframe\">\n",
       "  <thead>\n",
       "    <tr style=\"text-align: right;\">\n",
       "      <th></th>\n",
       "      <th>dlg_id</th>\n",
       "      <th>greetings</th>\n",
       "      <th>parting</th>\n",
       "      <th>boolean_greetings</th>\n",
       "      <th>boolean_parting</th>\n",
       "    </tr>\n",
       "  </thead>\n",
       "  <tbody>\n",
       "    <tr>\n",
       "      <th>0</th>\n",
       "      <td>0</td>\n",
       "      <td>Алло здравствуйте</td>\n",
       "      <td>Всего хорошего до свидания</td>\n",
       "      <td>True</td>\n",
       "      <td>True</td>\n",
       "    </tr>\n",
       "    <tr>\n",
       "      <th>1</th>\n",
       "      <td>1</td>\n",
       "      <td>Алло здравствуйте</td>\n",
       "      <td>До свидания</td>\n",
       "      <td>True</td>\n",
       "      <td>True</td>\n",
       "    </tr>\n",
       "    <tr>\n",
       "      <th>2</th>\n",
       "      <td>2</td>\n",
       "      <td>Алло здравствуйте</td>\n",
       "      <td>NaN</td>\n",
       "      <td>True</td>\n",
       "      <td>False</td>\n",
       "    </tr>\n",
       "    <tr>\n",
       "      <th>3</th>\n",
       "      <td>3</td>\n",
       "      <td>Алло дмитрий добрый день</td>\n",
       "      <td>NaN</td>\n",
       "      <td>True</td>\n",
       "      <td>False</td>\n",
       "    </tr>\n",
       "    <tr>\n",
       "      <th>4</th>\n",
       "      <td>4</td>\n",
       "      <td>NaN</td>\n",
       "      <td>Во вторник все ну с вами да тогда до вторника ...</td>\n",
       "      <td>False</td>\n",
       "      <td>True</td>\n",
       "    </tr>\n",
       "  </tbody>\n",
       "</table>\n",
       "</div>"
      ],
      "text/plain": [
       "   dlg_id                 greetings  \\\n",
       "0       0         Алло здравствуйте   \n",
       "1       1         Алло здравствуйте   \n",
       "2       2         Алло здравствуйте   \n",
       "3       3  Алло дмитрий добрый день   \n",
       "4       4                       NaN   \n",
       "\n",
       "                                             parting  boolean_greetings  \\\n",
       "0                         Всего хорошего до свидания               True   \n",
       "1                                        До свидания               True   \n",
       "2                                                NaN               True   \n",
       "3                                                NaN               True   \n",
       "4  Во вторник все ну с вами да тогда до вторника ...              False   \n",
       "\n",
       "   boolean_parting  \n",
       "0             True  \n",
       "1             True  \n",
       "2            False  \n",
       "3            False  \n",
       "4             True  "
      ]
     },
     "execution_count": 20,
     "metadata": {},
     "output_type": "execute_result"
    }
   ],
   "source": [
    "df_full['boolean_greetings'] = df_full.dlg_id.apply(lambda x: True if x in index_found else False)\n",
    "df_full['boolean_parting'] = df_full.dlg_id.apply(lambda x: True if x in index_found1 else False)\n",
    "df_full.head()"
   ]
  },
  {
   "cell_type": "markdown",
   "metadata": {},
   "source": [
    "В столбцах <b>boolean_greetings</b> и <b>boolean_parting</b> мы получили <b>True</b> для тех реплик, где есть приветствие/прощание и <b>False</b>, где нет"
   ]
  },
  {
   "cell_type": "code",
   "execution_count": 21,
   "metadata": {
    "scrolled": false
   },
   "outputs": [
    {
     "data": {
      "text/html": [
       "<div>\n",
       "<style scoped>\n",
       "    .dataframe tbody tr th:only-of-type {\n",
       "        vertical-align: middle;\n",
       "    }\n",
       "\n",
       "    .dataframe tbody tr th {\n",
       "        vertical-align: top;\n",
       "    }\n",
       "\n",
       "    .dataframe thead th {\n",
       "        text-align: right;\n",
       "    }\n",
       "</style>\n",
       "<table border=\"1\" class=\"dataframe\">\n",
       "  <thead>\n",
       "    <tr style=\"text-align: right;\">\n",
       "      <th></th>\n",
       "      <th>dlg_id</th>\n",
       "      <th>greetings</th>\n",
       "      <th>parting</th>\n",
       "      <th>boolean_greetings</th>\n",
       "      <th>boolean_parting</th>\n",
       "    </tr>\n",
       "  </thead>\n",
       "  <tbody>\n",
       "    <tr>\n",
       "      <th>0</th>\n",
       "      <td>0</td>\n",
       "      <td>Алло здравствуйте</td>\n",
       "      <td>Всего хорошего до свидания</td>\n",
       "      <td>True</td>\n",
       "      <td>True</td>\n",
       "    </tr>\n",
       "    <tr>\n",
       "      <th>1</th>\n",
       "      <td>1</td>\n",
       "      <td>Алло здравствуйте</td>\n",
       "      <td>До свидания</td>\n",
       "      <td>True</td>\n",
       "      <td>True</td>\n",
       "    </tr>\n",
       "  </tbody>\n",
       "</table>\n",
       "</div>"
      ],
      "text/plain": [
       "   dlg_id          greetings                     parting  boolean_greetings  \\\n",
       "0       0  Алло здравствуйте  Всего хорошего до свидания               True   \n",
       "1       1  Алло здравствуйте                 До свидания               True   \n",
       "\n",
       "   boolean_parting  \n",
       "0             True  \n",
       "1             True  "
      ]
     },
     "execution_count": 21,
     "metadata": {},
     "output_type": "execute_result"
    }
   ],
   "source": [
    "df_full.loc[(df_full.boolean_greetings == True) & (df_full.boolean_parting == True)]"
   ]
  },
  {
   "cell_type": "markdown",
   "metadata": {},
   "source": [
    "Поздоровался и попрощался менеджер из нулевого и первого диалога"
   ]
  },
  {
   "cell_type": "markdown",
   "metadata": {},
   "source": [
    "### Имя\n",
    "Теперь найдем имена менеджеров, заодно узнаем, кто поздоровался"
   ]
  },
  {
   "cell_type": "code",
   "execution_count": 22,
   "metadata": {},
   "outputs": [],
   "source": [
    "#Из библиотеки Наташа возьмем метод NamesExtractor чтоб вытащить все имена \n",
    "from natasha import (\n",
    "    Segmenter,\n",
    "    MorphVocab,\n",
    "    \n",
    "    NewsEmbedding,\n",
    "    NewsMorphTagger,\n",
    "    NewsSyntaxParser,\n",
    "    NewsNERTagger,\n",
    "    \n",
    "    PER,\n",
    "    NamesExtractor,\n",
    "\n",
    "    Doc\n",
    ")\n",
    "\n",
    "\n",
    "segmenter = Segmenter()\n",
    "morph_vocab = MorphVocab()\n",
    "\n",
    "emb = NewsEmbedding()\n",
    "morph_tagger = NewsMorphTagger(emb)\n",
    "syntax_parser = NewsSyntaxParser(emb)\n",
    "ner_tagger = NewsNERTagger(emb)\n",
    "\n",
    "names_extractor = NamesExtractor(morph_vocab)"
   ]
  },
  {
   "cell_type": "code",
   "execution_count": 23,
   "metadata": {},
   "outputs": [],
   "source": [
    "index_ = []\n",
    "p_names = []\n",
    "for num, row in zip(df_new.dlg_id, df_new.text):\n",
    "    matches = names_extractor(row)\n",
    "    for i in matches:\n",
    "            if i.fact.first != None:\n",
    "                text = i.fact.first\n",
    "                #добавим слова, которые могут находится перед представлением человека\n",
    "                context = f'Меня зовут {text}' \n",
    "                context2 = f'меня {text} зовут' \n",
    "                context3 = f'это {text}'\n",
    "                if any(word in row for word in (context, context2, context3)):\n",
    "                    index_.append(num)\n",
    "                    p_names.append(text.capitalize())"
   ]
  },
  {
   "cell_type": "code",
   "execution_count": 24,
   "metadata": {},
   "outputs": [],
   "source": [
    "manager_name = pd.DataFrame(data={'dlg_id':index_, 'manager_name':p_names})"
   ]
  },
  {
   "cell_type": "code",
   "execution_count": 25,
   "metadata": {},
   "outputs": [],
   "source": [
    "df_full = df_full.merge(manager_name, how='outer', on='dlg_id')"
   ]
  },
  {
   "cell_type": "code",
   "execution_count": 26,
   "metadata": {
    "scrolled": true
   },
   "outputs": [
    {
     "data": {
      "text/html": [
       "<div>\n",
       "<style scoped>\n",
       "    .dataframe tbody tr th:only-of-type {\n",
       "        vertical-align: middle;\n",
       "    }\n",
       "\n",
       "    .dataframe tbody tr th {\n",
       "        vertical-align: top;\n",
       "    }\n",
       "\n",
       "    .dataframe thead th {\n",
       "        text-align: right;\n",
       "    }\n",
       "</style>\n",
       "<table border=\"1\" class=\"dataframe\">\n",
       "  <thead>\n",
       "    <tr style=\"text-align: right;\">\n",
       "      <th></th>\n",
       "      <th>dlg_id</th>\n",
       "      <th>greetings</th>\n",
       "      <th>parting</th>\n",
       "      <th>boolean_greetings</th>\n",
       "      <th>boolean_parting</th>\n",
       "      <th>manager_name</th>\n",
       "    </tr>\n",
       "  </thead>\n",
       "  <tbody>\n",
       "    <tr>\n",
       "      <th>0</th>\n",
       "      <td>0</td>\n",
       "      <td>Алло здравствуйте</td>\n",
       "      <td>Всего хорошего до свидания</td>\n",
       "      <td>True</td>\n",
       "      <td>True</td>\n",
       "      <td>Ангелина</td>\n",
       "    </tr>\n",
       "    <tr>\n",
       "      <th>1</th>\n",
       "      <td>1</td>\n",
       "      <td>Алло здравствуйте</td>\n",
       "      <td>До свидания</td>\n",
       "      <td>True</td>\n",
       "      <td>True</td>\n",
       "      <td>Ангелина</td>\n",
       "    </tr>\n",
       "  </tbody>\n",
       "</table>\n",
       "</div>"
      ],
      "text/plain": [
       "   dlg_id          greetings                     parting  boolean_greetings  \\\n",
       "0       0  Алло здравствуйте  Всего хорошего до свидания               True   \n",
       "1       1  Алло здравствуйте                 До свидания               True   \n",
       "\n",
       "   boolean_parting manager_name  \n",
       "0             True     Ангелина  \n",
       "1             True     Ангелина  "
      ]
     },
     "execution_count": 26,
     "metadata": {},
     "output_type": "execute_result"
    }
   ],
   "source": [
    "df_full.loc[(df_full.boolean_greetings == True) & (df_full.boolean_parting == True)]"
   ]
  },
  {
   "cell_type": "markdown",
   "metadata": {},
   "source": [
    "Объеденяя по удовлетворяющим нас фразам в диалоге (приветствие/прощание), наблюдаем, что только Ангелина в 0 и 1 диалогах поприветствовала и попрощалась с клиентом"
   ]
  },
  {
   "cell_type": "markdown",
   "metadata": {},
   "source": [
    "### Название компании\n",
    "По принципу, похожему на тот, что использовали с приветствием и прощанием, ищем название компании"
   ]
  },
  {
   "cell_type": "code",
   "execution_count": 27,
   "metadata": {},
   "outputs": [],
   "source": [
    "#создаем правило для парсинга\n",
    "COMPANY = rule(eq('компания'), or_(gram('Abbr'), gram('NOUN')), eq('бизнес').optional())\n",
    "\n",
    "company_finder = rule(COMPANY)\n",
    "parser_company = Parser(company_finder)\n",
    "\n",
    "companies = []\n",
    "companies_index = []\n",
    "for num, row in zip(df_new.dlg_id, df_new.text):\n",
    "    matches = (list(parser_company.findall(row)))\n",
    "    for i in matches:\n",
    "        companies.append([k.value for k in i.tokens])\n",
    "        companies_index.append(num)"
   ]
  },
  {
   "cell_type": "code",
   "execution_count": 28,
   "metadata": {},
   "outputs": [],
   "source": [
    "companies = [' '.join(i[1:]) for i in companies]"
   ]
  },
  {
   "cell_type": "code",
   "execution_count": 29,
   "metadata": {},
   "outputs": [],
   "source": [
    "company_name = pd.DataFrame(data={'dlg_id':companies_index, 'company_name':companies})"
   ]
  },
  {
   "cell_type": "code",
   "execution_count": 30,
   "metadata": {
    "scrolled": false
   },
   "outputs": [
    {
     "data": {
      "text/html": [
       "<div>\n",
       "<style scoped>\n",
       "    .dataframe tbody tr th:only-of-type {\n",
       "        vertical-align: middle;\n",
       "    }\n",
       "\n",
       "    .dataframe tbody tr th {\n",
       "        vertical-align: top;\n",
       "    }\n",
       "\n",
       "    .dataframe thead th {\n",
       "        text-align: right;\n",
       "    }\n",
       "</style>\n",
       "<table border=\"1\" class=\"dataframe\">\n",
       "  <thead>\n",
       "    <tr style=\"text-align: right;\">\n",
       "      <th></th>\n",
       "      <th>dlg_id</th>\n",
       "      <th>company_name</th>\n",
       "    </tr>\n",
       "  </thead>\n",
       "  <tbody>\n",
       "    <tr>\n",
       "      <th>0</th>\n",
       "      <td>0</td>\n",
       "      <td>диджитал бизнес</td>\n",
       "    </tr>\n",
       "    <tr>\n",
       "      <th>1</th>\n",
       "      <td>1</td>\n",
       "      <td>диджитал бизнес</td>\n",
       "    </tr>\n",
       "    <tr>\n",
       "      <th>2</th>\n",
       "      <td>2</td>\n",
       "      <td>диджитал бизнес</td>\n",
       "    </tr>\n",
       "    <tr>\n",
       "      <th>3</th>\n",
       "      <td>3</td>\n",
       "      <td>китобизнес</td>\n",
       "    </tr>\n",
       "  </tbody>\n",
       "</table>\n",
       "</div>"
      ],
      "text/plain": [
       "   dlg_id     company_name\n",
       "0       0  диджитал бизнес\n",
       "1       1  диджитал бизнес\n",
       "2       2  диджитал бизнес\n",
       "3       3       китобизнес"
      ]
     },
     "execution_count": 30,
     "metadata": {},
     "output_type": "execute_result"
    }
   ],
   "source": [
    "company_name"
   ]
  },
  {
   "cell_type": "markdown",
   "metadata": {},
   "source": [
    "### Финальная таблица"
   ]
  },
  {
   "cell_type": "code",
   "execution_count": 31,
   "metadata": {},
   "outputs": [
    {
     "data": {
      "text/html": [
       "<div>\n",
       "<style scoped>\n",
       "    .dataframe tbody tr th:only-of-type {\n",
       "        vertical-align: middle;\n",
       "    }\n",
       "\n",
       "    .dataframe tbody tr th {\n",
       "        vertical-align: top;\n",
       "    }\n",
       "\n",
       "    .dataframe thead th {\n",
       "        text-align: right;\n",
       "    }\n",
       "</style>\n",
       "<table border=\"1\" class=\"dataframe\">\n",
       "  <thead>\n",
       "    <tr style=\"text-align: right;\">\n",
       "      <th></th>\n",
       "      <th>dlg_id</th>\n",
       "      <th>greetings</th>\n",
       "      <th>parting</th>\n",
       "      <th>boolean_greetings</th>\n",
       "      <th>boolean_parting</th>\n",
       "      <th>manager_name</th>\n",
       "      <th>company_name</th>\n",
       "    </tr>\n",
       "  </thead>\n",
       "  <tbody>\n",
       "    <tr>\n",
       "      <th>0</th>\n",
       "      <td>0</td>\n",
       "      <td>Алло здравствуйте</td>\n",
       "      <td>Всего хорошего до свидания</td>\n",
       "      <td>True</td>\n",
       "      <td>True</td>\n",
       "      <td>Ангелина</td>\n",
       "      <td>диджитал бизнес</td>\n",
       "    </tr>\n",
       "    <tr>\n",
       "      <th>1</th>\n",
       "      <td>1</td>\n",
       "      <td>Алло здравствуйте</td>\n",
       "      <td>До свидания</td>\n",
       "      <td>True</td>\n",
       "      <td>True</td>\n",
       "      <td>Ангелина</td>\n",
       "      <td>диджитал бизнес</td>\n",
       "    </tr>\n",
       "    <tr>\n",
       "      <th>2</th>\n",
       "      <td>2</td>\n",
       "      <td>Алло здравствуйте</td>\n",
       "      <td>NaN</td>\n",
       "      <td>True</td>\n",
       "      <td>False</td>\n",
       "      <td>Ангелина</td>\n",
       "      <td>диджитал бизнес</td>\n",
       "    </tr>\n",
       "    <tr>\n",
       "      <th>3</th>\n",
       "      <td>3</td>\n",
       "      <td>Алло дмитрий добрый день</td>\n",
       "      <td>NaN</td>\n",
       "      <td>True</td>\n",
       "      <td>False</td>\n",
       "      <td>Максим</td>\n",
       "      <td>китобизнес</td>\n",
       "    </tr>\n",
       "    <tr>\n",
       "      <th>4</th>\n",
       "      <td>4</td>\n",
       "      <td>NaN</td>\n",
       "      <td>Во вторник все ну с вами да тогда до вторника ...</td>\n",
       "      <td>False</td>\n",
       "      <td>True</td>\n",
       "      <td>NaN</td>\n",
       "      <td>NaN</td>\n",
       "    </tr>\n",
       "    <tr>\n",
       "      <th>5</th>\n",
       "      <td>5</td>\n",
       "      <td>NaN</td>\n",
       "      <td>Ну до свидания хорошего вечера</td>\n",
       "      <td>False</td>\n",
       "      <td>True</td>\n",
       "      <td>Анастасия</td>\n",
       "      <td>NaN</td>\n",
       "    </tr>\n",
       "  </tbody>\n",
       "</table>\n",
       "</div>"
      ],
      "text/plain": [
       "   dlg_id                 greetings  \\\n",
       "0       0         Алло здравствуйте   \n",
       "1       1         Алло здравствуйте   \n",
       "2       2         Алло здравствуйте   \n",
       "3       3  Алло дмитрий добрый день   \n",
       "4       4                       NaN   \n",
       "5       5                       NaN   \n",
       "\n",
       "                                             parting  boolean_greetings  \\\n",
       "0                         Всего хорошего до свидания               True   \n",
       "1                                        До свидания               True   \n",
       "2                                                NaN               True   \n",
       "3                                                NaN               True   \n",
       "4  Во вторник все ну с вами да тогда до вторника ...              False   \n",
       "5                     Ну до свидания хорошего вечера              False   \n",
       "\n",
       "   boolean_parting manager_name     company_name  \n",
       "0             True     Ангелина  диджитал бизнес  \n",
       "1             True     Ангелина  диджитал бизнес  \n",
       "2            False     Ангелина  диджитал бизнес  \n",
       "3            False       Максим       китобизнес  \n",
       "4             True          NaN              NaN  \n",
       "5             True    Анастасия              NaN  "
      ]
     },
     "execution_count": 31,
     "metadata": {},
     "output_type": "execute_result"
    }
   ],
   "source": [
    "df_full = df_full.merge(company_name, how='outer', on='dlg_id')\n",
    "df_full"
   ]
  },
  {
   "cell_type": "code",
   "execution_count": null,
   "metadata": {},
   "outputs": [],
   "source": []
  }
 ],
 "metadata": {
  "kernelspec": {
   "display_name": "Python 3",
   "language": "python",
   "name": "python3"
  },
  "language_info": {
   "codemirror_mode": {
    "name": "ipython",
    "version": 3
   },
   "file_extension": ".py",
   "mimetype": "text/x-python",
   "name": "python",
   "nbconvert_exporter": "python",
   "pygments_lexer": "ipython3",
   "version": "3.7.3"
  }
 },
 "nbformat": 4,
 "nbformat_minor": 4
}
